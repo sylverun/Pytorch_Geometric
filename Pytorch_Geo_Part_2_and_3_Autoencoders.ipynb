{
 "cells": [
  {
   "cell_type": "markdown",
   "id": "71a63a8b",
   "metadata": {},
   "source": [
    "# Pytorch_Geometric : Learning to use PyGeo\n",
    "\n",
    "#### This notebook is adapted from a series of videos from Antonio Longa(links: https://github.com/AntonioLonga/PytorchGeometricTutorial and https://www.youtube.com/watch?v=JtDgmmQ60x8&list=PLGMXrbDNfqTzqxB1IGgimuhtfAhGd8lHF&pp=iAQB )"
   ]
  },
  {
   "cell_type": "markdown",
   "id": "33188423",
   "metadata": {},
   "source": [
    "### Import Librairies"
   ]
  },
  {
   "cell_type": "code",
   "execution_count": 1,
   "id": "aaf993ce",
   "metadata": {},
   "outputs": [
    {
     "data": {
      "text/html": [
       "<details>\n",
       "<summary>Click to view session information</summary>\n",
       "<pre>\n",
       "-----\n",
       "matplotlib          3.5.2\n",
       "session_info        1.0.0\n",
       "sklearn             1.0.2\n",
       "torch               2.0.1+cu117\n",
       "torch_geometric     2.3.1\n",
       "-----\n",
       "</pre>\n",
       "<details>\n",
       "<summary>Click to view modules imported as dependencies</summary>\n",
       "<pre>\n",
       "PIL                         9.2.0\n",
       "backcall                    0.2.0\n",
       "beta_ufunc                  NA\n",
       "binom_ufunc                 NA\n",
       "cffi                        1.15.1\n",
       "colorama                    0.4.5\n",
       "cycler                      0.10.0\n",
       "cython_runtime              NA\n",
       "dateutil                    2.8.2\n",
       "debugpy                     1.5.1\n",
       "decorator                   5.1.1\n",
       "defusedxml                  0.7.1\n",
       "dill                        0.3.4\n",
       "entrypoints                 0.4\n",
       "google                      NA\n",
       "hypergeom_ufunc             NA\n",
       "importlib_metadata          NA\n",
       "ipykernel                   6.15.2\n",
       "ipython_genutils            0.2.0\n",
       "jedi                        0.18.1\n",
       "joblib                      1.2.0\n",
       "jupyter_server              1.18.1\n",
       "kiwisolver                  1.4.2\n",
       "lz4                         3.1.3\n",
       "mkl                         2.4.0\n",
       "mpl_toolkits                NA\n",
       "mpmath                      1.2.1\n",
       "nbinom_ufunc                NA\n",
       "ncf_ufunc                   NA\n",
       "nt                          NA\n",
       "ntsecuritycon               NA\n",
       "numpy                       1.21.5\n",
       "nvfuser                     NA\n",
       "packaging                   21.3\n",
       "parso                       0.8.3\n",
       "pickleshare                 0.7.5\n",
       "pkg_resources               NA\n",
       "prompt_toolkit              3.0.20\n",
       "psutil                      5.9.0\n",
       "pydev_ipython               NA\n",
       "pydevconsole                NA\n",
       "pydevd                      2.6.0\n",
       "pydevd_concurrency_analyser NA\n",
       "pydevd_file_utils           NA\n",
       "pydevd_plugins              NA\n",
       "pydevd_tracing              NA\n",
       "pygments                    2.11.2\n",
       "pyparsing                   3.0.9\n",
       "pythoncom                   NA\n",
       "pywintypes                  NA\n",
       "ruamel                      NA\n",
       "scipy                       1.9.1\n",
       "setuptools                  63.4.1\n",
       "six                         1.16.0\n",
       "sphinxcontrib               NA\n",
       "storemagic                  NA\n",
       "sympy                       1.10.1\n",
       "threadpoolctl               2.2.0\n",
       "torch_cluster               1.6.1+pt20cu117\n",
       "torch_scatter               2.1.1+pt20cu117\n",
       "torch_sparse                0.6.17+pt20cu117\n",
       "torch_spline_conv           1.2.2+pt20cu117\n",
       "tornado                     6.1\n",
       "tqdm                        4.64.1\n",
       "traitlets                   5.1.1\n",
       "typing_extensions           NA\n",
       "wcwidth                     0.2.5\n",
       "win32api                    NA\n",
       "win32com                    NA\n",
       "win32security               NA\n",
       "zipp                        NA\n",
       "zmq                         23.2.0\n",
       "zope                        NA\n",
       "</pre>\n",
       "</details> <!-- seems like this ends pre, so might as well be explicit -->\n",
       "<pre>\n",
       "-----\n",
       "IPython             7.31.1\n",
       "jupyter_client      7.3.4\n",
       "jupyter_core        4.11.1\n",
       "jupyterlab          3.4.4\n",
       "notebook            6.4.12\n",
       "-----\n",
       "Python 3.9.13 (main, Aug 25 2022, 23:51:50) [MSC v.1916 64 bit (AMD64)]\n",
       "Windows-10-10.0.22621-SP0\n",
       "-----\n",
       "Session information updated at 2023-05-21 23:36\n",
       "</pre>\n",
       "</details>"
      ],
      "text/plain": [
       "<IPython.core.display.HTML object>"
      ]
     },
     "execution_count": 1,
     "metadata": {},
     "output_type": "execute_result"
    }
   ],
   "source": [
    "#for part 2\n",
    "import torch\n",
    "from torch_geometric.datasets import Planetoid\n",
    "from torch_geometric.nn import GCNConv, GAE\n",
    "import torch_geometric.transforms as T\n",
    "\n",
    "#for GVAE\n",
    "from torch_geometric.nn import VGAE\n",
    "\n",
    "#for part 3\n",
    "import os.path\n",
    "import torch.nn as nn\n",
    "import torch.nn.functional as F\n",
    "from sklearn.cluster import KMeans\n",
    "from sklearn.metrics.cluster import v_measure_score,homogeneity_score, completeness_score\n",
    "from sklearn.manifold import TSNE\n",
    "from torch_geometric.nn.models.autoencoder import ARGVA\n",
    "import random\n",
    "\n",
    "import matplotlib.pyplot as plt\n",
    "\n",
    "import session_info\n",
    "\n",
    "device= torch.device('cuda' if torch.cuda.is_available() else 'cpu')\n",
    "session_info.show()"
   ]
  },
  {
   "cell_type": "markdown",
   "id": "d0dbb3bd",
   "metadata": {},
   "source": [
    "## Part 2 : Graph Autoencoders and Variational Graph Autoencoders"
   ]
  },
  {
   "cell_type": "markdown",
   "id": "6530c675",
   "metadata": {},
   "source": [
    "### GAE : GraphAutoEncoder"
   ]
  },
  {
   "cell_type": "markdown",
   "id": "e4d7f3e5",
   "metadata": {},
   "source": [
    "#### Loading the dataset"
   ]
  },
  {
   "cell_type": "code",
   "execution_count": 2,
   "id": "73e8b847",
   "metadata": {},
   "outputs": [
    {
     "name": "stdout",
     "output_type": "stream",
     "text": [
      "Data(x=[3327, 3703], edge_index=[2, 9104], y=[3327], train_mask=[3327], val_mask=[3327], test_mask=[3327])\n",
      "6\n"
     ]
    }
   ],
   "source": [
    "dataset= Planetoid(root='exploration_citeseer',name=\"CiteSeer\", transform= T.NormalizeFeatures())\n",
    "print(dataset._data)\n",
    "print(dataset.num_classes)"
   ]
  },
  {
   "cell_type": "code",
   "execution_count": 3,
   "id": "3ba09d7d",
   "metadata": {},
   "outputs": [
    {
     "name": "stdout",
     "output_type": "stream",
     "text": [
      "Data(x=[3327, 3703], edge_index=[2, 7739], y=[3327], pos_edge_label=[7739], pos_edge_label_index=[2, 7739], neg_edge_label=[7739], neg_edge_label_index=[2, 7739])\n",
      "Data(x=[3327, 3703], edge_index=[2, 7739], y=[3327], pos_edge_label=[455], pos_edge_label_index=[2, 455], neg_edge_label=[455], neg_edge_label_index=[2, 455])\n",
      "Data(x=[3327, 3703], edge_index=[2, 8194], y=[3327], pos_edge_label=[910], pos_edge_label_index=[2, 910], neg_edge_label=[910], neg_edge_label_index=[2, 910])\n"
     ]
    }
   ],
   "source": [
    "# As autoencoder is an unsupervised learning method, reshape of the dataset can be performed(we don't need the masks or even y)\n",
    "data=dataset[0]# we have just one graph in this dataset\n",
    "data.train_mask=data.test_mask= data.val_mask= None\n",
    "transform = T.RandomLinkSplit(num_val=0.05, num_test=0.1, is_undirected=False, key='edge_label',split_labels = True)\n",
    "train_data, val_data, test_data = transform(data)\n",
    "print(train_data)\n",
    "print(val_data)\n",
    "print(test_data)"
   ]
  },
  {
   "cell_type": "markdown",
   "id": "957ade42",
   "metadata": {},
   "source": [
    "#### Define Encoder "
   ]
  },
  {
   "cell_type": "code",
   "execution_count": 4,
   "id": "0a11f0bb",
   "metadata": {},
   "outputs": [],
   "source": [
    "class GCN_Encod(torch.nn.Module):\n",
    "    def __init__(self, in_channels,out_channels):\n",
    "        super(GCN_Encod,self).__init__()\n",
    "        \n",
    "        self.conv1= GCNConv(in_channels, 2*out_channels, cached= True)\n",
    "        self.conv2= GCNConv(2*out_channels, out_channels, cached= True)\n",
    "        \n",
    "        \n",
    "    def forward(self,x, edge_index):\n",
    "        \n",
    "        x= self.conv1(x, edge_index).relu()\n",
    "        x= self.conv2(x, edge_index)\n",
    "        return x\n",
    "    "
   ]
  },
  {
   "cell_type": "markdown",
   "id": "77f50c5f",
   "metadata": {},
   "source": [
    "#### Define Autoencoder "
   ]
  },
  {
   "cell_type": "code",
   "execution_count": 5,
   "id": "7f64073a",
   "metadata": {},
   "outputs": [],
   "source": [
    "# Hyperparameters\n",
    "out_channels = 2\n",
    "num_features= dataset.num_features\n",
    "num_epoch=500\n",
    "\n",
    "#model\n",
    "model= GAE(GCN_Encod(num_features, out_channels))\n",
    "# use the GPU\n",
    "model=model.to(device)\n",
    "x=train_data.x.to(device)\n",
    "train_edge_index= train_data['pos_edge_label_index'].to(device)\n",
    "train_neg_edge_index= train_data['neg_edge_label_index'].to(device)\n",
    "\n",
    "#optimizer\n",
    "optimizer= torch.optim.Adam(model.parameters(), lr=0.001, weight_decay=1e-4)\n"
   ]
  },
  {
   "cell_type": "code",
   "execution_count": 6,
   "id": "d5808fc2",
   "metadata": {},
   "outputs": [
    {
     "name": "stdout",
     "output_type": "stream",
     "text": [
      "GAE(\n",
      "  (encoder): GCN_Encod(\n",
      "    (conv1): GCNConv(3703, 4)\n",
      "    (conv2): GCNConv(4, 2)\n",
      "  )\n",
      "  (decoder): InnerProductDecoder()\n",
      ")\n"
     ]
    }
   ],
   "source": [
    "print(model)"
   ]
  },
  {
   "cell_type": "code",
   "execution_count": 7,
   "id": "e5d7a056",
   "metadata": {},
   "outputs": [
    {
     "name": "stdout",
     "output_type": "stream",
     "text": [
      "epoch 100/500, Loss= 1.354, AUC = 0.73570, AP= 0.7569\n",
      "epoch 200/500, Loss= 1.305, AUC = 0.71921, AP= 0.7645\n",
      "epoch 300/500, Loss= 1.245, AUC = 0.75854, AP= 0.7873\n",
      "epoch 400/500, Loss= 1.181, AUC = 0.81451, AP= 0.8183\n",
      "epoch 500/500, Loss= 1.128, AUC = 0.83185, AP= 0.8309\n"
     ]
    }
   ],
   "source": [
    "for epoch in range(num_epoch):  # loop over the dataset multiple times\n",
    "    model.train()\n",
    "    optimizer.zero_grad()\n",
    "    z= model.encode(x, train_edge_index)\n",
    "    loss = model.recon_loss(z, train_edge_index,train_neg_edge_index)\n",
    "    loss.backward()\n",
    "    optimizer.step()\n",
    "    \n",
    "    \n",
    "    with torch.no_grad():\n",
    "        z= model.encode(test_data.x.to(device),test_data['pos_edge_label_index'].to(device))\n",
    "        auc,ap = model.test(z, test_data['pos_edge_label_index'].to(device), test_data['neg_edge_label_index'].to(device))\n",
    "    \n",
    "    if (epoch+1) % 100 ==0:\n",
    "         print (f'epoch {epoch+1}/{num_epoch}, Loss= {loss:.3f}, AUC = {auc:.5f}, AP= {ap:.4f}')\n",
    "    "
   ]
  },
  {
   "cell_type": "code",
   "execution_count": 8,
   "id": "6a8d7a42",
   "metadata": {},
   "outputs": [
    {
     "data": {
      "text/plain": [
       "tensor([[-0.1630,  0.0518],\n",
       "        [-0.5179,  0.3265],\n",
       "        [ 0.3107, -0.3168],\n",
       "        ...,\n",
       "        [-0.2898,  0.1521],\n",
       "        [ 0.4933, -0.4588],\n",
       "        [ 0.5081, -0.4708]], device='cuda:0', grad_fn=<AddBackward0>)"
      ]
     },
     "execution_count": 8,
     "metadata": {},
     "output_type": "execute_result"
    }
   ],
   "source": [
    "Z= model.encode(x,train_edge_index) \n",
    "Z"
   ]
  },
  {
   "cell_type": "markdown",
   "id": "bf6d0a1d",
   "metadata": {},
   "source": [
    "### GVAE : Graph Variational AutoEncoder"
   ]
  },
  {
   "cell_type": "code",
   "execution_count": 9,
   "id": "9bbf884e",
   "metadata": {},
   "outputs": [],
   "source": [
    "# we retake the same dataset,with the same preprocessing"
   ]
  },
  {
   "cell_type": "code",
   "execution_count": 10,
   "id": "7ce65589",
   "metadata": {},
   "outputs": [],
   "source": [
    "class Varia_GCN_Encod(torch.nn.Module):\n",
    "    def __init__(self, in_channels,out_channels):\n",
    "        super(Varia_GCN_Encod,self).__init__()\n",
    "        \n",
    "        self.conv1 = GCNConv(in_channels, 2*out_channels, cached= True)\n",
    "        self.conv_mu = GCNConv(2*out_channels, out_channels, cached= True)\n",
    "        self.conv_logstd = GCNConv(2*out_channels, out_channels, cached= True)\n",
    "        \n",
    "    def forward(self,x, edge_index):\n",
    "        \n",
    "        x= self.conv1(x, edge_index).relu()\n",
    "        y,z= self.conv_mu(x, edge_index), self.conv_logstd(x, edge_index)\n",
    "        return y,z"
   ]
  },
  {
   "cell_type": "code",
   "execution_count": 11,
   "id": "934faf30",
   "metadata": {},
   "outputs": [
    {
     "name": "stdout",
     "output_type": "stream",
     "text": [
      "VGAE(\n",
      "  (encoder): Varia_GCN_Encod(\n",
      "    (conv1): GCNConv(3703, 4)\n",
      "    (conv_mu): GCNConv(4, 2)\n",
      "    (conv_logstd): GCNConv(4, 2)\n",
      "  )\n",
      "  (decoder): InnerProductDecoder()\n",
      ")\n"
     ]
    }
   ],
   "source": [
    "# Hyperparameters\n",
    "out_channels = 2\n",
    "num_features= dataset.num_features\n",
    "num_epoch=500\n",
    "\n",
    "#model\n",
    "model= VGAE(Varia_GCN_Encod(num_features, out_channels))\n",
    "# use the GPU\n",
    "model=model.to(device)\n",
    "x=train_data.x.to(device)\n",
    "train_edge_index= train_data['pos_edge_label_index'].to(device)\n",
    "train_neg_edge_index= train_data['neg_edge_label_index'].to(device)\n",
    "\n",
    "#optimizer\n",
    "optimizer= torch.optim.Adam(model.parameters(), lr=0.005, weight_decay=1e-8)\n",
    "print(model)"
   ]
  },
  {
   "cell_type": "code",
   "execution_count": 12,
   "id": "ee01a4c3",
   "metadata": {},
   "outputs": [
    {
     "name": "stdout",
     "output_type": "stream",
     "text": [
      "epoch 100/500, Loss= 1.387, AUC = 0.52505, AP= 0.5306\n",
      "epoch 200/500, Loss= 1.276, AUC = 0.70112, AP= 0.7468\n",
      "epoch 300/500, Loss= 1.050, AUC = 0.82061, AP= 0.8227\n",
      "epoch 400/500, Loss= 0.971, AUC = 0.81044, AP= 0.8107\n",
      "epoch 500/500, Loss= 0.933, AUC = 0.79938, AP= 0.7944\n"
     ]
    }
   ],
   "source": [
    "for epoch in range(num_epoch):  # loop over the dataset multiple times\n",
    "    model.train()\n",
    "    optimizer.zero_grad()\n",
    "    z= model.encode(x, train_edge_index)\n",
    "    loss = model.recon_loss(z, train_edge_index,train_neg_edge_index)\n",
    "    \n",
    "    loss= loss + (1/data.num_nodes)* model.kl_loss() # The only new line\n",
    "    loss.backward()\n",
    "    optimizer.step()\n",
    "    \n",
    "    \n",
    "    with torch.no_grad():\n",
    "        z= model.encode(train_data.x.to(device),train_data['pos_edge_label_index'].to(device))\n",
    "        auc,ap = model.test(z, test_data['pos_edge_label_index'].to(device), test_data['neg_edge_label_index'].to(device))\n",
    "    \n",
    "    if (epoch+1) % 100 ==0:\n",
    "         print (f'epoch {epoch+1}/{num_epoch}, Loss= {loss:.3f}, AUC = {auc:.5f}, AP= {ap:.4f}')\n",
    "    "
   ]
  },
  {
   "cell_type": "markdown",
   "id": "0283f915",
   "metadata": {},
   "source": [
    "## Part 3 : Adversarial Regularizer Graph Autoencoders "
   ]
  },
  {
   "cell_type": "markdown",
   "id": "e0e134e4",
   "metadata": {},
   "source": [
    "#### Get the data"
   ]
  },
  {
   "cell_type": "code",
   "execution_count": 13,
   "id": "7db37331",
   "metadata": {},
   "outputs": [],
   "source": [
    "dataset= Planetoid(root='exploration_cora',name=\"Cora\", transform= T.NormalizeFeatures())\n",
    "data= dataset.get(0)"
   ]
  },
  {
   "cell_type": "markdown",
   "id": "08950430",
   "metadata": {},
   "source": [
    "#### Get the number_of_nodes in the graph"
   ]
  },
  {
   "cell_type": "code",
   "execution_count": 14,
   "id": "31babb63",
   "metadata": {},
   "outputs": [
    {
     "name": "stdout",
     "output_type": "stream",
     "text": [
      "2708\n"
     ]
    }
   ],
   "source": [
    "num_nodes= data.num_nodes\n",
    "print(num_nodes)"
   ]
  },
  {
   "cell_type": "markdown",
   "id": "d2432400",
   "metadata": {},
   "source": [
    "#### Create the test/train/val data"
   ]
  },
  {
   "cell_type": "code",
   "execution_count": 15,
   "id": "0b31dba6",
   "metadata": {},
   "outputs": [
    {
     "name": "stdout",
     "output_type": "stream",
     "text": [
      "Data(x=[2708, 1433], edge_index=[2, 8974], y=[2708], pos_edge_label=[8974], pos_edge_label_index=[2, 8974], neg_edge_label=[8974], neg_edge_label_index=[2, 8974])\n",
      "Data(x=[2708, 1433], edge_index=[2, 8974], y=[2708], pos_edge_label=[527], pos_edge_label_index=[2, 527], neg_edge_label=[527], neg_edge_label_index=[2, 527])\n",
      "Data(x=[2708, 1433], edge_index=[2, 9501], y=[2708], pos_edge_label=[1055], pos_edge_label_index=[2, 1055], neg_edge_label=[1055], neg_edge_label_index=[2, 1055])\n"
     ]
    }
   ],
   "source": [
    "data.train_mask = data.test_mask = data.val_mask = None\n",
    "transform = T.RandomLinkSplit(num_val=0.05, num_test=0.1, is_undirected=False, key='edge_label',split_labels = True)\n",
    "train_data, val_data, test_data = transform(data)\n",
    "print(train_data)\n",
    "print(val_data)\n",
    "print(test_data)"
   ]
  },
  {
   "cell_type": "markdown",
   "id": "0a5dda2a",
   "metadata": {},
   "source": [
    "#### Define the parts of the model"
   ]
  },
  {
   "cell_type": "code",
   "execution_count": 16,
   "id": "d994e745",
   "metadata": {},
   "outputs": [],
   "source": [
    "#The encoder is the same than the previous one\n",
    "class Varia_GCN_Encod(nn.Module):\n",
    "    def __init__(self, in_channels,out_channels):\n",
    "        super(Varia_GCN_Encod,self).__init__()\n",
    "        \n",
    "        self.conv1 = GCNConv(in_channels, 2*out_channels, cached= True)\n",
    "        self.conv_mu = GCNConv(2*out_channels, out_channels, cached= True)\n",
    "        self.conv_logstd = GCNConv(2*out_channels, out_channels, cached= True)\n",
    "        \n",
    "    def forward(self,x, edge_index):\n",
    "        \n",
    "        x= torch.nn.functional.relu(self.conv1(x, edge_index))\n",
    "        y,z= self.conv_mu(x, edge_index), self.conv_logstd(x, edge_index)\n",
    "        return y,z\n"
   ]
  },
  {
   "cell_type": "code",
   "execution_count": 17,
   "id": "b6d1cd49",
   "metadata": {},
   "outputs": [],
   "source": [
    "# Define the discrimator\n",
    "class Discriminator(nn.Module):\n",
    "    def __init__(self, in_channels,hidden_channels,out_channels):\n",
    "        super(Discriminator,self).__init__()\n",
    "        self.fc1= nn.Linear(in_channels,hidden_channels)\n",
    "        self.fc2= nn.Linear(hidden_channels,hidden_channels)\n",
    "        self.fc3= nn.Linear(hidden_channels,out_channels)\n",
    "        \n",
    "    def forward(self,x):\n",
    "        x= F.relu(self.fc1(x))\n",
    "        x= F.relu(self.fc2(x))\n",
    "        outputs= self.fc3(x)\n",
    "        return outputs"
   ]
  },
  {
   "cell_type": "markdown",
   "id": "1077c536",
   "metadata": {},
   "source": [
    "#### Model initialization"
   ]
  },
  {
   "cell_type": "code",
   "execution_count": 18,
   "id": "f21d03a2",
   "metadata": {},
   "outputs": [
    {
     "name": "stdout",
     "output_type": "stream",
     "text": [
      "ARGVA(\n",
      "  (encoder): Varia_GCN_Encod(\n",
      "    (conv1): GCNConv(1433, 64)\n",
      "    (conv_mu): GCNConv(64, 32)\n",
      "    (conv_logstd): GCNConv(64, 32)\n",
      "  )\n",
      "  (decoder): InnerProductDecoder()\n",
      "  (discriminator): Discriminator(\n",
      "    (fc1): Linear(in_features=32, out_features=64, bias=True)\n",
      "    (fc2): Linear(in_features=64, out_features=64, bias=True)\n",
      "    (fc3): Linear(in_features=64, out_features=1, bias=True)\n",
      "  )\n",
      "  (VGAE): VGAE(\n",
      "    (encoder): Varia_GCN_Encod(\n",
      "      (conv1): GCNConv(1433, 64)\n",
      "      (conv_mu): GCNConv(64, 32)\n",
      "      (conv_logstd): GCNConv(64, 32)\n",
      "    )\n",
      "    (decoder): InnerProductDecoder()\n",
      "  )\n",
      ")\n"
     ]
    }
   ],
   "source": [
    "# Hyperparameters\n",
    "latent_space= 32\n",
    "out_channels = 1\n",
    "num_features= data.num_features\n",
    "hidden_channels= 64\n",
    "num_epoch=200\n",
    "\n",
    "#model\n",
    "encoder = Varia_GCN_Encod(in_channels=num_features,out_channels= latent_space)\n",
    "discriminator= Discriminator(in_channels=latent_space, hidden_channels=hidden_channels,out_channels=out_channels)\n",
    "\n",
    "model= ARGVA(encoder,discriminator)\n",
    "\n",
    "# use the GPU\n",
    "model=model.to(device)\n",
    "x=train_data.x.to(device)\n",
    "train_edge_index= train_data.pos_edge_label_index.to(device)\n",
    "train_neg_edge_index= train_data.neg_edge_label_index.to(device)\n",
    "\n",
    "#optimizer\n",
    "discriminator_optimizer= torch.optim.Adam(discriminator.parameters(), lr=0.001)\n",
    "encoder_optimizer= torch.optim.Adam(encoder.parameters(), lr=0.005)\n",
    "print(model)"
   ]
  },
  {
   "cell_type": "markdown",
   "id": "64c4cba4",
   "metadata": {},
   "source": [
    "#### Loop for training and test"
   ]
  },
  {
   "cell_type": "code",
   "execution_count": 19,
   "id": "090ccd44",
   "metadata": {},
   "outputs": [
    {
     "name": "stdout",
     "output_type": "stream",
     "text": [
      "epoch 10/200, Loss= 2.211, AUC = 0.79422, AP= 0.7999,Completeness= 0.200, Homogeneity = 0.196,Nmi= 0.198\n",
      "epoch 20/200, Loss= 2.585, AUC = 0.84868, AP= 0.8462,Completeness= 0.321, Homogeneity = 0.324,Nmi= 0.322\n",
      "epoch 30/200, Loss= 3.708, AUC = 0.86614, AP= 0.8577,Completeness= 0.390, Homogeneity = 0.387,Nmi= 0.388\n",
      "epoch 40/200, Loss= 4.172, AUC = 0.87167, AP= 0.8714,Completeness= 0.471, Homogeneity = 0.438,Nmi= 0.454\n",
      "epoch 50/200, Loss= 4.029, AUC = 0.88493, AP= 0.8707,Completeness= 0.397, Homogeneity = 0.392,Nmi= 0.395\n",
      "epoch 60/200, Loss= 3.862, AUC = 0.89227, AP= 0.8749,Completeness= 0.426, Homogeneity = 0.423,Nmi= 0.424\n",
      "epoch 70/200, Loss= 4.125, AUC = 0.90848, AP= 0.8990,Completeness= 0.462, Homogeneity = 0.452,Nmi= 0.457\n",
      "epoch 80/200, Loss= 3.987, AUC = 0.91859, AP= 0.9123,Completeness= 0.562, Homogeneity = 0.530,Nmi= 0.545\n",
      "epoch 90/200, Loss= 3.969, AUC = 0.92729, AP= 0.9231,Completeness= 0.554, Homogeneity = 0.525,Nmi= 0.539\n",
      "epoch 100/200, Loss= 3.792, AUC = 0.93156, AP= 0.9262,Completeness= 0.514, Homogeneity = 0.494,Nmi= 0.504\n",
      "epoch 110/200, Loss= 3.666, AUC = 0.94067, AP= 0.9334,Completeness= 0.488, Homogeneity = 0.480,Nmi= 0.484\n",
      "epoch 120/200, Loss= 3.696, AUC = 0.94513, AP= 0.9391,Completeness= 0.502, Homogeneity = 0.495,Nmi= 0.499\n",
      "epoch 130/200, Loss= 3.749, AUC = 0.94805, AP= 0.9428,Completeness= 0.480, Homogeneity = 0.482,Nmi= 0.481\n",
      "epoch 140/200, Loss= 3.640, AUC = 0.95135, AP= 0.9441,Completeness= 0.477, Homogeneity = 0.478,Nmi= 0.477\n",
      "epoch 150/200, Loss= 3.555, AUC = 0.95467, AP= 0.9471,Completeness= 0.487, Homogeneity = 0.503,Nmi= 0.495\n",
      "epoch 160/200, Loss= 3.541, AUC = 0.95674, AP= 0.9486,Completeness= 0.495, Homogeneity = 0.505,Nmi= 0.500\n",
      "epoch 170/200, Loss= 3.443, AUC = 0.95861, AP= 0.9517,Completeness= 0.476, Homogeneity = 0.495,Nmi= 0.485\n",
      "epoch 180/200, Loss= 3.368, AUC = 0.95714, AP= 0.9492,Completeness= 0.475, Homogeneity = 0.485,Nmi= 0.480\n",
      "epoch 190/200, Loss= 3.398, AUC = 0.95851, AP= 0.9528,Completeness= 0.455, Homogeneity = 0.466,Nmi= 0.461\n",
      "epoch 200/200, Loss= 3.393, AUC = 0.96058, AP= 0.9563,Completeness= 0.417, Homogeneity = 0.438,Nmi= 0.428\n"
     ]
    }
   ],
   "source": [
    "for epoch in range(num_epoch):\n",
    "    model.train()\n",
    "    encoder_optimizer.zero_grad()\n",
    "    z= model.encode(x, train_edge_index)\n",
    "    \n",
    "    for i in range (5):\n",
    "        idx = list(range(num_nodes))\n",
    "        random.shuffle(idx) \n",
    "        discriminator.train()\n",
    "        discriminator_optimizer.zero_grad()\n",
    "        discriminator_loss= model.discriminator_loss(z[idx])\n",
    "        discriminator_loss.backward(retain_graph= True)\n",
    "        discriminator_optimizer.step()\n",
    "        \n",
    "    loss = 0\n",
    "    loss = loss + model.reg_loss(z)\n",
    "    loss = loss + model.recon_loss(z, train_edge_index)\n",
    "    \n",
    "    loss= loss + (1/data.num_nodes)* model.kl_loss() # The only new line\n",
    "    loss.backward()\n",
    "    encoder_optimizer.step()\n",
    "    \n",
    "    if (epoch+1) % 10 ==0:\n",
    "        with torch.no_grad():\n",
    "            model.eval()\n",
    "            z= model.encode(train_data.x.to(device),train_data.pos_edge_label_index.to(device))\n",
    "            auc,ap = model.test(z, test_data.pos_edge_label_index.to(device), test_data.neg_edge_label_index.to(device))\n",
    "\n",
    "            # Cluster embedded values using k-means\n",
    "            KM_input= z.to('cpu').numpy()\n",
    "            KM= KMeans(n_clusters=7, random_state=5).fit(KM_input)\n",
    "            preds= KM.predict(KM_input)\n",
    "\n",
    "            labels= data.y.to('cpu').numpy()\n",
    "            completeness= completeness_score(labels,preds)\n",
    "            hm= homogeneity_score(labels,preds)\n",
    "            nmi= v_measure_score(labels, preds)\n",
    "\n",
    "            print(f'epoch {epoch+1}/{num_epoch}, Loss= {loss:.3f}, AUC = {auc:.5f}, AP= {ap:.4f},Completeness= {completeness:.3f}, Homogeneity = {hm:.3f},Nmi= {nmi:.3f}')"
   ]
  },
  {
   "cell_type": "markdown",
   "id": "0630cd43",
   "metadata": {},
   "source": [
    "#### Visualisation of clustering from this VAE"
   ]
  },
  {
   "cell_type": "code",
   "execution_count": 20,
   "id": "ffbefc43",
   "metadata": {},
   "outputs": [
    {
     "name": "stderr",
     "output_type": "stream",
     "text": [
      "C:\\Users\\sylv_\\anaconda3\\envs\\Pytorch_Chem\\lib\\site-packages\\sklearn\\manifold\\_t_sne.py:780: FutureWarning: The default initialization in TSNE will change from 'random' to 'pca' in 1.2.\n",
      "  warnings.warn(\n",
      "C:\\Users\\sylv_\\anaconda3\\envs\\Pytorch_Chem\\lib\\site-packages\\sklearn\\manifold\\_t_sne.py:790: FutureWarning: The default learning rate in TSNE will change from 200.0 to 'auto' in 1.2.\n",
      "  warnings.warn(\n"
     ]
    },
    {
     "data": {
      "image/png": "[encoded data removed]",
      "text/plain": [
       "<Figure size 800x800 with 1 Axes>"
      ]
     },
     "metadata": {},
     "output_type": "display_data"
    }
   ],
   "source": [
    "colors=['r','b','y','g','purple','black','pink']\n",
    "with torch.no_grad():\n",
    "    model.to(device)\n",
    "    model.eval()\n",
    "    z = model.encode(train_data.x.to(device),train_data.pos_edge_label_index.to(device))\n",
    "    z = TSNE(n_components=2).fit_transform(z.to('cpu').numpy())\n",
    "    y = data.y.to('cpu').numpy()\n",
    "    \n",
    "    fig= plt.figure(1, figsize=(8,8))\n",
    "    fig.clf()\n",
    "    for i in range(dataset.num_classes):\n",
    "        plt.scatter(z[y == i,0],z[y == i,1], s=20, c=colors[i])\n",
    "    plt.axis('off')\n",
    "    plt.show"
   ]
  }
 ],
 "metadata": {
  "kernelspec": {
   "display_name": "Python 3 (ipykernel)",
   "language": "python",
   "name": "python3"
  },
  "language_info": {
   "codemirror_mode": {
    "name": "ipython",
    "version": 3
   },
   "file_extension": ".py",
   "mimetype": "text/x-python",
   "name": "python",
   "nbconvert_exporter": "python",
   "pygments_lexer": "ipython3",
   "version": "3.9.13"
  }
 },
 "nbformat": 4,
 "nbformat_minor": 5
}
